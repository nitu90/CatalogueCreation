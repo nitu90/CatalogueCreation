{
 "cells": [
  {
   "cell_type": "code",
   "execution_count": 3,
   "metadata": {},
   "outputs": [],
   "source": [
    "# Set working dir to src so that imports work\n",
    "\n",
    "import os\n",
    "os.chdir('/root/cw/NiteshCode/CWCatalogue')"
   ]
  },
  {
   "cell_type": "code",
   "execution_count": 5,
   "metadata": {},
   "outputs": [],
   "source": [
    "from mongoengine import *\n",
    "from src.dbLayer.dbConfig.config import MONGOIP, MONGOPORT, DBNAME, CATEGORYCOLLECTIONNAME\n",
    "from src.dbLayer.dbClasses.categoryClasses import Category\n",
    "from uuid import uuid4\n",
    "import datetime\n",
    "import pandas as pd\n",
    "import numpy as np"
   ]
  },
  {
   "cell_type": "code",
   "execution_count": 9,
   "metadata": {},
   "outputs": [
    {
     "data": {
      "text/plain": [
       "MongoClient(host=['13.127.238.219:27017'], document_class=dict, tz_aware=False, connect=True, read_preference=Primary())"
      ]
     },
     "execution_count": 9,
     "metadata": {},
     "output_type": "execute_result"
    }
   ],
   "source": [
    "connect(db=DBNAME, host=MONGOIP, port=MONGOPORT)"
   ]
  },
  {
   "cell_type": "code",
   "execution_count": 6,
   "metadata": {},
   "outputs": [
    {
     "data": {
      "text/html": [
       "<div>\n",
       "<style scoped>\n",
       "    .dataframe tbody tr th:only-of-type {\n",
       "        vertical-align: middle;\n",
       "    }\n",
       "\n",
       "    .dataframe tbody tr th {\n",
       "        vertical-align: top;\n",
       "    }\n",
       "\n",
       "    .dataframe thead th {\n",
       "        text-align: right;\n",
       "    }\n",
       "</style>\n",
       "<table border=\"1\" class=\"dataframe\">\n",
       "  <thead>\n",
       "    <tr style=\"text-align: right;\">\n",
       "      <th></th>\n",
       "      <th>Unnamed: 0</th>\n",
       "      <th>title</th>\n",
       "      <th>level1</th>\n",
       "      <th>level2</th>\n",
       "    </tr>\n",
       "  </thead>\n",
       "  <tbody>\n",
       "    <tr>\n",
       "      <th>0</th>\n",
       "      <td>0</td>\n",
       "      <td>Jeet Ethnics Coat With Shirt Waistcoat Bow And...</td>\n",
       "      <td>Clothes &amp; Shoes</td>\n",
       "      <td>Party Wear</td>\n",
       "    </tr>\n",
       "    <tr>\n",
       "      <th>1</th>\n",
       "      <td>1</td>\n",
       "      <td>Fox Baby Short Length Skort Ice Cream Print - ...</td>\n",
       "      <td>Clothes &amp; Shoes</td>\n",
       "      <td>Shorts, Skirts &amp; Jeans</td>\n",
       "    </tr>\n",
       "    <tr>\n",
       "      <th>2</th>\n",
       "      <td>2</td>\n",
       "      <td>ToffyHouse Half Sleeves Tee &amp; Shorts Roll With...</td>\n",
       "      <td>Clothes &amp; Shoes</td>\n",
       "      <td>Sets &amp; Suits</td>\n",
       "    </tr>\n",
       "  </tbody>\n",
       "</table>\n",
       "</div>"
      ],
      "text/plain": [
       "   Unnamed: 0                                              title  \\\n",
       "0           0  Jeet Ethnics Coat With Shirt Waistcoat Bow And...   \n",
       "1           1  Fox Baby Short Length Skort Ice Cream Print - ...   \n",
       "2           2  ToffyHouse Half Sleeves Tee & Shorts Roll With...   \n",
       "\n",
       "            level1                  level2  \n",
       "0  Clothes & Shoes              Party Wear  \n",
       "1  Clothes & Shoes  Shorts, Skirts & Jeans  \n",
       "2  Clothes & Shoes            Sets & Suits  "
      ]
     },
     "execution_count": 6,
     "metadata": {},
     "output_type": "execute_result"
    }
   ],
   "source": [
    "dataset_path = '/root/cw/NiteshCode/CWCatalogue/src/dataStore/productCategorization/data/firstcry_category_dataset.csv'\n",
    "df = pd.read_csv(dataset_path)\n",
    "df.head(3)"
   ]
  },
  {
   "cell_type": "code",
   "execution_count": 7,
   "metadata": {},
   "outputs": [
    {
     "data": {
      "text/plain": [
       "Clothes & Shoes                                90564\n",
       "Toys & Gaming                                  16383\n",
       "Fashion Accessories                             8854\n",
       "Moms & Maternity                                7295\n",
       "Books & CD's                                    7103\n",
       "School Supplies                                 5596\n",
       "Nursery                                         5261\n",
       "Feeding & Nursing                               4100\n",
       "BirthDay                                        3218\n",
       "Baby Gear                                       3033\n",
       "Diapering                                       2193\n",
       "Health & Safety                                 1434\n",
       "Bath & Skin Care                                1093\n",
       "Gifts                                            817\n",
       "Combo packs                                      576\n",
       "Festivals                                        149\n",
       "Premium Boutiques                                 74\n",
       "Sitemap                                            2\n",
       "Premium Store                                      1\n",
       "Premium Clothing & Footwear                        1\n",
       "Medela Breastfeeding & Breast Care Products        1\n",
       "Pigeon Baby & Maternity Care Store                 1\n",
       "Name: level1, dtype: int64"
      ]
     },
     "execution_count": 7,
     "metadata": {},
     "output_type": "execute_result"
    }
   ],
   "source": [
    "df.level1.value_counts()"
   ]
  },
  {
   "cell_type": "code",
   "execution_count": 10,
   "metadata": {},
   "outputs": [],
   "source": [
    "for index, count in df.level1.value_counts().iteritems():\n",
    "    usedForModel=True\n",
    "    if count<600:\n",
    "        usedForModel=False\n",
    "    temp = Category(name=index, \n",
    "                    catId=str(uuid4()), \n",
    "                    parentId=['root'], \n",
    "                    alias=list(), \n",
    "                    timestamp=datetime.datetime.now(), \n",
    "                    creatorType='auto', \n",
    "                    creatorName='NK', \n",
    "                    usedForModel=usedForModel, \n",
    "                    level='level1', \n",
    "                    comments='firstcry level1 categories')\n",
    "    temp.save()"
   ]
  }
 ],
 "metadata": {
  "kernelspec": {
   "display_name": "Python 3",
   "language": "python",
   "name": "python3"
  },
  "language_info": {
   "codemirror_mode": {
    "name": "ipython",
    "version": 3
   },
   "file_extension": ".py",
   "mimetype": "text/x-python",
   "name": "python",
   "nbconvert_exporter": "python",
   "pygments_lexer": "ipython3",
   "version": "3.5.2"
  }
 },
 "nbformat": 4,
 "nbformat_minor": 2
}
